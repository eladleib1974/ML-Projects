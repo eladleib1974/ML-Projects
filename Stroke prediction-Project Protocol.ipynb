{
 "cells": [
  {
   "cell_type": "markdown",
   "metadata": {},
   "source": [
    "## Stroke prediction-Project Protocol  ##"
   ]
  },
  {
   "cell_type": "markdown",
   "metadata": {},
   "source": [
    "### Introduction ###\n",
    "\n",
    "A stroke, sometimes called a brain attack, occurs when something blocks blood supply to part of the brain or when a blood vessel in the brain bursts.\n",
    "\n",
    "In either case, parts of the brain become damaged or die. A stroke can cause lasting brain damage, long-term disability, or even death.\n",
    "\n",
    "According to theWorld Stroke Organization, 13 million people get a stroke each\n",
    "year, and approximately 5.5 million people will die as a result. It is the leading cause of\n",
    "death and disability worldwide, and that is why its imprint is serious in all aspects of life.\n",
    "Stroke not only affects the patient but also affects the patient’s social environment, family\n",
    "and workplace. In addition, contrary to popular belief, it can happen to anyone, at any age,\n",
    "regardless of gender or physical condition\n",
    "- \n",
    "Our objective is to understand what are the reasons that cause stroke to peoeple and see if we can succefully detect stroke on some features using ML technics"
   ]
  },
  {
   "cell_type": "markdown",
   "metadata": {},
   "source": [
    "### What is known about the problem?\n",
    "Stroke risk varies by age\n",
    "Stroke risk increases with age, but strokes can—and do—occur at any age.\n",
    "In 2014, 38% of people hospitalized for stroke were less than 65 years old.3\n",
    "Early action is important for stroke\n",
    "Know the warning signs and symptoms of stroke so that you can act fast if you or someone you know might be having a stroke. The chances of survival are greater when emergency treatment begins quickly.\n",
    "\n",
    "In one survey, most respondents—93%—recognized sudden numbness on one side as a symptom of stroke. Only 38% were aware of all major symptoms and knew to call 9-1-1 when someone was having a stroke.4\n",
    "Patients who arrive at the emergency room within 3 hours of their first symptoms often have less disability 3 months after a stroke than those who received delayed care.4\n",
    "Americans at risk for stroke\n",
    "High blood pressure, high cholesterol, smoking, obesity, and diabetes are leading causes of stroke. One in 3 U.S. adults has at least one of these conditions or habits.2 \n",
    "\n"
   ]
  },
  {
   "cell_type": "markdown",
   "metadata": {},
   "source": [
    "\n",
    "### How do we define the outcome(s)?\n",
    "\n",
    "Need to Predict the probability that someone will have a stroke , as denoted by the binary target- 'stroke'."
   ]
  },
  {
   "cell_type": "markdown",
   "metadata": {},
   "source": [
    "### What is known to influence the outcome?\n",
    "\n",
    "* High blood pressure\n",
    "\n",
    "* high cholesterol\n",
    "\n",
    "* smoking\n",
    "\n",
    "* obesity\n",
    "\n",
    "* diabetes\n",
    "\n"
   ]
  },
  {
   "cell_type": "markdown",
   "metadata": {},
   "source": [
    "# Methodology ​(Project Design)"
   ]
  },
  {
   "cell_type": "markdown",
   "metadata": {},
   "source": [
    "## Data"
   ]
  },
  {
   "cell_type": "markdown",
   "metadata": {},
   "source": [
    "#### Which data will be used?\n",
    "The data comes from stroke csv file"
   ]
  },
  {
   "cell_type": "markdown",
   "metadata": {},
   "source": [
    "##### Time frames periods the project will be based on\n",
    "\n",
    "* Load data set\n",
    "* Data Exploritory (EDA).\n",
    "* missinf values and treatment\n",
    "* Outliers and treatment\n",
    "* Feature engineering.\n",
    "* Feature selecting\n",
    "* Running models\n",
    "* Choosing the best model\n",
    "* Evaluate the model performance using validation score.\n",
    "* Hyper parameter tunning.\n",
    "* Re-evaluate the model performance and get final validation score.\n",
    "* Predict test data and submit."
   ]
  },
  {
   "cell_type": "markdown",
   "metadata": {},
   "source": [
    "##### Outcome variable?  \n",
    "\n",
    "* 'stroke' feature is our outcome. can have two values: 1 or 0.(Binary classification)\n",
    "\n",
    "##### Data exploration strategy: \n",
    "\n",
    "* Check each of the variable statistics\n",
    "\n",
    "* Distribution of variables and Relationship with the outcome \n",
    "    \n",
    "* Correlation for Numeric Variables\n",
    "    \n",
    "* Correlation for Combination of Numeric and Categorical Variables\n",
    "    \n",
    "* Cramer's V - a correlation measure for categorial variables based on ChiSquare\n",
    "    \n",
    "* Outliers Check -Desiding which values could be droped and which not\n",
    "    \n",
    "* Missing Values-Making desicions about the mechanism of missingness\n",
    "    \n",
    "* Imputation of the missing values if need\n",
    "\n",
    "* Removing 'bmi' outiers using IQR\n",
    "\n",
    "##### Techniques  applied to enrich the data:\n",
    "\n",
    "\n",
    "* Combination of two or more variables.\n",
    "\n",
    "* Variable modification:  Logaritm.\n",
    "\n",
    "* Ont Hot Encoding- Get dummies.\n",
    "\n",
    "\n",
    "\n",
    "\n",
    "##### How will you deal with outliers?\n",
    "\n",
    "* for 'bmi' feature , i removed the outliers using IQR\n",
    "* for 'averge glucose level, i didnt remive the outliers since when i tried to remove the outliers , the distributon changed, so i didnt remove them. (and also \n",
    "\n",
    "\n",
    "##### How you will deal with missing values\n",
    "\n",
    "Missingness treatment:\n",
    "\n",
    "* for 'bmi' missing values, i use imputation techniques.\n",
    "\n",
    "\n",
    "\n"
   ]
  },
  {
   "cell_type": "markdown",
   "metadata": {},
   "source": [
    "# Models"
   ]
  },
  {
   "cell_type": "markdown",
   "metadata": {},
   "source": [
    "#### How do you plan to divide your data Training?\n",
    "\n",
    "Data will be splited to Train, Dev(Validation) and Test"
   ]
  },
  {
   "cell_type": "markdown",
   "metadata": {},
   "source": [
    "#### Balancing Data\n",
    "\n",
    "I will need to balance the data since the outcome is extreemly unbalanced.\n",
    "\n",
    "For the imbalanced outcome, i will use  oversampling, SMOTE."
   ]
  },
  {
   "cell_type": "markdown",
   "metadata": {},
   "source": [
    "#### Techniques apply to model the outcome\n",
    "\n",
    "I used Classification models such as:\n",
    "\n",
    "* Gradient Boosting Machine\n",
    "* KNN\n",
    "* XGB\n",
    "* Decision Tree\n",
    "* Random Forest \n",
    "* Logistic Regression.\n",
    "* Adaboost"
   ]
  },
  {
   "cell_type": "markdown",
   "metadata": {},
   "source": [
    "#### Cross-validation\n",
    "\n",
    "* I will use Cross Validation K-fold during Hyperparameters tunning using RandomizedSearchCV"
   ]
  },
  {
   "cell_type": "markdown",
   "metadata": {},
   "source": [
    "#### Measures  used to train and evaluate your models\n",
    "\n",
    "* Metric: ROC-AUC: because the dataset is imbalanced. and recall\n",
    "\n",
    "* For this Stroke identification, we achieves a good performance on the positive class (high AUC) at the cost of a high false negatives rate (or a low number of true negative).\n",
    "The reason is that we wanted a low false negative (Recall)"
   ]
  },
  {
   "cell_type": "markdown",
   "metadata": {},
   "source": [
    "#### Do you plan to use ensembling or will use your best model?\n",
    "\n",
    "* The data set is imbalanced, so i had to Prepare the data for modeling using different type of sampling:\n",
    "\n",
    " OverSampling\n",
    " \n",
    " SMOTE\n",
    "\n",
    " \n",
    "\n",
    "* I am planning to use the best model using AUC / Recall best score."
   ]
  },
  {
   "cell_type": "markdown",
   "metadata": {},
   "source": [
    "# Deployment of your mode"
   ]
  },
  {
   "cell_type": "markdown",
   "metadata": {},
   "source": [
    "# Results"
   ]
  },
  {
   "cell_type": "markdown",
   "metadata": {},
   "source": [
    "Results Here you will present the main results of all the processes. We will describe:\n",
    "    \n",
    "##### The final amount of data used (total, train, test, etc\n",
    "\n",
    "\n",
    "\n",
    "* X_train.shape- (6217, 5)) \n",
    "* y_train.shape -(6217,)\n",
    "* X_dev.shape - (1555, 5)\n",
    "* y_dev.shape- (1555,)\n",
    "* X_test.shape - (1944, 5)\n",
    "* y_test.shape -(1944)\n",
    "\n",
    "##### The amount of outliers and the way of treating them\n",
    "\n",
    "* bmi outliers were removed.\n",
    "\n",
    "##### The amount of missing values and the methods used for imputing them\n",
    "\n",
    "* bmi had 201 missing vavlues and i used imputation for filling them.\n",
    "\n",
    "###### The distribution of the data (timeframes)\n",
    "\n",
    "* Train , Validaion (dev) and test\n",
    "\n",
    "##### The methods used to transform the data and to generate new features\n",
    "\n",
    "* Categorial Variables were categorozed with One Hot Encoding- Get dummies\n",
    "* Numircal values were sclade\n",
    "\n"
   ]
  }
 ],
 "metadata": {
  "kernelspec": {
   "display_name": "Python 3",
   "language": "python",
   "name": "python3"
  },
  "language_info": {
   "codemirror_mode": {
    "name": "ipython",
    "version": 3
   },
   "file_extension": ".py",
   "mimetype": "text/x-python",
   "name": "python",
   "nbconvert_exporter": "python",
   "pygments_lexer": "ipython3",
   "version": "3.9.5"
  }
 },
 "nbformat": 4,
 "nbformat_minor": 4
}
